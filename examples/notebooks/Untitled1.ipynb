{
 "cells": [
  {
   "cell_type": "code",
   "execution_count": 1,
   "id": "131b5ad5-e6a7-4cdc-a853-f2262b85608f",
   "metadata": {},
   "outputs": [],
   "source": [
    "import numpy as np\n",
    "import matplotlib.pyplot as plt\n",
    "from scipy.optimize import fsolve"
   ]
  },
  {
   "cell_type": "code",
   "execution_count": 2,
   "id": "82fa2931-71c8-4d98-bca4-d12df44577b5",
   "metadata": {},
   "outputs": [],
   "source": [
    "class Component:\n",
    "    \n",
    "    @property\n",
    "    def parent(self):\n",
    "        return self._parent\n",
    "\n",
    "    @parent.setter\n",
    "    def parent(self, parent):\n",
    "        self._parent = parent\n",
    "\n",
    "    def is_composite(self):\n",
    "        \"\"\"\n",
    "        You can provide a method that lets the client code figure out whether a\n",
    "        component can bear children.\n",
    "        \"\"\"\n",
    "\n",
    "        return False\n",
    "\n",
    "    def operation(self):\n",
    "        \"\"\"\n",
    "        The base Component may implement some default behavior or leave it to\n",
    "        concrete classes (by declaring the method containing the behavior as\n",
    "        \"abstract\").\n",
    "        \"\"\"\n",
    "\n",
    "        pass"
   ]
  },
  {
   "cell_type": "code",
   "execution_count": 3,
   "id": "d3f55304-3089-4ea6-8cb3-39308d91d561",
   "metadata": {},
   "outputs": [],
   "source": [
    "class Model(Component):\n",
    "    def __init__(self):\n",
    "        self.time = None # a variable to connect\n",
    "        self.variables = []\n",
    "        self.equations = []\n",
    "        self.parameters = []\n",
    "    \n",
    "    def Variable(self, *args, **kwargs):\n",
    "        variable = Variable(*args, **kwargs)\n",
    "        self.variables.append(variable)\n",
    "        setattr(self, variable.name, variable)\n",
    "        \n",
    "        return variable\n",
    "    \n",
    "    def DerivativeVar(self, variable_name):\n",
    "        self.Variable(name = 'deriv_' + variable_name)\n",
    "        self.t0 = 0.0\n",
    "        variable = getattr(self, variable_name)\n",
    "        setattr(self, variable_name + '__OLD', variable.get_value())\n",
    "        \n",
    "        def backward_euler(m):\n",
    "            dydt = getattr(m, 'deriv_' + variable_name)()\n",
    "            y = getattr(m, variable_name)()\n",
    "            y0 = getattr(m, variable_name + '__OLD')\n",
    "            time = m.time()\n",
    "            t0 = m.t0\n",
    "            return dydt - (y-y0)/(time-t0)\n",
    "        \n",
    "        self.Equation(backward_euler) # Backward euler finite diff\n",
    "        \n",
    "        derivativevar = getattr(self, 'deriv_' + variable_name)\n",
    "        \n",
    "        return derivativevar\n",
    "    \n",
    "    def Parameter(self, *args, **kwargs):\n",
    "        param = Variable(*args, **kwargs)\n",
    "        self.parameters.append(param)\n",
    "        setattr(self, param.name, param)\n",
    "        \n",
    "        return param\n",
    "    \n",
    "    def Equation(self, callable_obj):\n",
    "        self.equations.append(callable_obj)\n",
    "        \n",
    "    def update_states(self):\n",
    "        attrs = [a for a in dir(self) if a.endswith('__OLD')]\n",
    "        for attr in attrs:\n",
    "            y0_value = getattr(self, attr.split('__OLD')[0])()\n",
    "            setattr(self, attr, y0_value) # self.y0 = self.y()\n",
    "        \n",
    "        self.t0 = self.time()\n",
    "\n",
    "    def set_time_variable(self, time_variable):\n",
    "        self.time = time_variable\n",
    "            \n",
    "    def is_composite(self):\n",
    "        return False\n",
    "    \n",
    "    def update_variables(self, X):\n",
    "        X1 = X[:len(self.variables)]\n",
    "        for i, variable in enumerate(self.variables):\n",
    "            variable.set_value(X1[i])\n",
    "        X = X[len(self.variables):]\n",
    "        return X\n",
    "            \n",
    "    def residuals(self):\n",
    "        resid = []\n",
    "        for equation in self.equations:\n",
    "            resid.append( equation(self) )\n",
    "            \n",
    "        return resid"
   ]
  },
  {
   "cell_type": "code",
   "execution_count": 4,
   "id": "09a02e3e-9180-4579-82bb-93404193cfff",
   "metadata": {},
   "outputs": [],
   "source": [
    "class Composite(Component):\n",
    "    \"\"\"\n",
    "    The Composite class represents the complex components that may have\n",
    "    children. Usually, the Composite objects delegate the actual work to their\n",
    "    children and then \"sum-up\" the result.\n",
    "    \"\"\"\n",
    "\n",
    "    def __init__(self) -> None:\n",
    "        self._children = []\n",
    "        self.num_variables = 0\n",
    "        self.num_equations = 0\n",
    "\n",
    "    \"\"\"\n",
    "    A composite object can add or remove other components (both simple or\n",
    "    complex) to or from its child list.\n",
    "    \"\"\"\n",
    "    @property\n",
    "    def variables(self):\n",
    "        variables = []\n",
    "        for child in self._children:\n",
    "            variables.extend( child.variables )\n",
    "        \n",
    "        return variables\n",
    "    \n",
    "    def add(self, component):\n",
    "        self._children.append(component)\n",
    "        component.parent = self\n",
    "        \n",
    "        self.num_variables, self.num_equations = self.update_num_vars_eqs()\n",
    "        \n",
    "\n",
    "    def remove(self, component):\n",
    "        self._children.remove(component)\n",
    "        component.parent = None\n",
    "        self.num_variables = self.update_num_variables()\n",
    "        self.num_equations = self.update_num_equations()\n",
    "        \n",
    "    def update_num_vars_eqs(self):\n",
    "        num_variables = 0\n",
    "        num_equations = 0\n",
    "        for child in self._children:\n",
    "            if child.is_composite():\n",
    "                num_variables, num_equations = child.update_num_vars_eqs()\n",
    "            else:\n",
    "                num_variables += len(child.variables)\n",
    "                num_equations += len(child.equations)\n",
    "        \n",
    "        return num_variables, num_equations\n",
    "                \n",
    "\n",
    "    def is_composite(self):\n",
    "        return True\n",
    "    \n",
    "    def update_states(self):\n",
    "        for child in self._children:\n",
    "            child.update_states()\n",
    "    \n",
    "    def set_time_variable(self, time_variable):\n",
    "        for child in self._children:\n",
    "            child.set_time_variable(time_variable)\n",
    "        \n",
    "    def update_variables(self, X):\n",
    "        for child in self._children:\n",
    "            X = child.update_variables(X)\n",
    "        \n",
    "        return X\n",
    "    \n",
    "    def residuals(self):\n",
    "        resid = []\n",
    "        for child in self._children:\n",
    "            resid.extend( child.residuals() )\n",
    "        \n",
    "        return resid\n",
    "            \n",
    "    def compute(self, X):\n",
    "        \"\"\"\n",
    "        The Composite executes its primary logic in a particular way. It\n",
    "        traverses recursively through all its children, collecting and summing\n",
    "        their results. Since the composite's children pass these calls to their\n",
    "        children and so forth, the whole object tree is traversed as a result.\n",
    "        \"\"\"\n",
    "        \n",
    "        self.update_variables(X)\n",
    "        resid = self.residuals()\n",
    "        \n",
    "        return resid\n",
    "    \n",
    "    def solve(self):\n",
    "        \n",
    "        XGuess = np.ones(self.num_variables)\n",
    "        root = fsolve(self.compute, XGuess)\n",
    "        \n",
    "        return root\n",
    "        "
   ]
  },
  {
   "cell_type": "code",
   "execution_count": 5,
   "id": "55e9bad1-bf90-4382-8f51-0519592ad2f0",
   "metadata": {},
   "outputs": [],
   "source": [
    "class Variable:\n",
    "    def __init__(self, name='', initial_value=0.0):\n",
    "        self.value = initial_value\n",
    "        self.name = name\n",
    "    \n",
    "    def set_value(self, value):\n",
    "        self.value = value\n",
    "        \n",
    "    def get_value(self):\n",
    "        return self.value\n",
    "        \n",
    "    def __call__(self):\n",
    "        return self.value"
   ]
  },
  {
   "cell_type": "code",
   "execution_count": 6,
   "id": "4d7a1faa-147f-421c-9fb4-d1371492cdfc",
   "metadata": {},
   "outputs": [],
   "source": [
    "class Simulator:\n",
    "    def __init__(self, composite):\n",
    "        self.composite = composite\n",
    "        self.clock = Clock(0.0)\n",
    "        self.composite.add(self.clock)\n",
    "        \n",
    "    def simulate(self,time_values):\n",
    "        \n",
    "        self.composite.set_time_variable(self.clock.time) # set the time variable for all elements\n",
    "        \n",
    "        timesteps = [time_values[0]]\n",
    "        results = {var.name: [var()] for var in self.composite.variables}\n",
    "\n",
    "        for curr_time in time_values[1:]:\n",
    "            self.clock.time.set_value(curr_time)\n",
    "\n",
    "            root = self.composite.solve()\n",
    "            self.composite.update_states()\n",
    "\n",
    "            timesteps.append(self.clock.time())\n",
    "            for var in self.composite.variables:\n",
    "                results[var.name].append( var() )\n",
    "            \n",
    "        return timesteps, results"
   ]
  },
  {
   "cell_type": "code",
   "execution_count": 7,
   "id": "5d846b3e-f23d-4a1b-8526-e252a5428b4e",
   "metadata": {},
   "outputs": [],
   "source": [
    "class Clock(Model):\n",
    "    def __init__(self, initial_time):\n",
    "        super().__init__()\n",
    "        self.Parameter('time', initial_time)\n",
    "\n",
    "class Integrator(Model):\n",
    "    def __init__(self, state_name='y', initial_value=0.0, ):\n",
    "        super().__init__()\n",
    "        self.Variable(state_name, initial_value)\n",
    "        self.DerivativeVar(state_name)\n",
    "        \n",
    "class ODEset(Model):\n",
    "    def __init__(self, state_name='y', equation_obj=lambda m: 0):\n",
    "        super().__init__()\n",
    "        # setattr(self, state_name, None)\n",
    "        # setattr(self, state_name, None)\n",
    "        # self.y = None\n",
    "        # self.dydt = None\n",
    "        \n",
    "        self.Equation(equation_obj)"
   ]
  },
  {
   "cell_type": "markdown",
   "id": "b87d8731-b98a-4094-9e37-d89afc7f4313",
   "metadata": {},
   "source": [
    "# Basic Problems"
   ]
  },
  {
   "cell_type": "code",
   "execution_count": 8,
   "id": "8539e12a-eb52-437a-9c45-cb70b55c4fec",
   "metadata": {},
   "outputs": [
    {
     "data": {
      "text/plain": [
       "array([ 0.5 , -0.25])"
      ]
     },
     "execution_count": 8,
     "metadata": {},
     "output_type": "execute_result"
    }
   ],
   "source": [
    "class SysLinearEq(Model):\n",
    "    def __init__(self):\n",
    "        super().__init__()\n",
    "        \n",
    "        x = self.Variable('x1')\n",
    "        y = self.Variable('y1')\n",
    "        self.Equation(lambda m: 3*x() + 2*y() -1)\n",
    "        self.Equation(lambda m: x() + 2*y() - 0)\n",
    "\n",
    "equation_set = SysLinearEq()\n",
    "model = Composite()\n",
    "model.add(equation_set)\n",
    "model.solve()"
   ]
  },
  {
   "cell_type": "code",
   "execution_count": 9,
   "id": "394750aa-ee66-4a52-aa05-6676414558a6",
   "metadata": {},
   "outputs": [
    {
     "data": {
      "text/plain": [
       "array([ 0.5 , -0.25])"
      ]
     },
     "execution_count": 9,
     "metadata": {},
     "output_type": "execute_result"
    }
   ],
   "source": [
    "class SysLinearEq(Model):\n",
    "    def __init__(self):\n",
    "        super().__init__()\n",
    "        \n",
    "        x = [self.Variable('x'+str(i)) for i in range(2)]\n",
    "        self.Equation(lambda m: 3*x[0]() + 2*x[1]() -1)\n",
    "        self.Equation(lambda m: x[0]() + 2*x[1]() - 0)\n",
    "\n",
    "equation_set = SysLinearEq()\n",
    "model = Composite()\n",
    "model.add(equation_set)\n",
    "model.solve()"
   ]
  },
  {
   "cell_type": "code",
   "execution_count": 10,
   "id": "02dcb7f3-dcd9-4442-a5c9-47b5b3807766",
   "metadata": {},
   "outputs": [
    {
     "data": {
      "text/plain": [
       "array([ 0.5 , -0.25])"
      ]
     },
     "execution_count": 10,
     "metadata": {},
     "output_type": "execute_result"
    }
   ],
   "source": [
    "class Eq1(Model):\n",
    "    def __init__(self):\n",
    "        super().__init__()\n",
    "        \n",
    "        x = self.Variable('x')\n",
    "        self.y = None\n",
    "        self.Equation(lambda m: 3*x() + 2*m.y() -1)\n",
    "        \n",
    "\n",
    "class Eq2(Model):\n",
    "    def __init__(self):\n",
    "        super().__init__()\n",
    "        \n",
    "        self.x = None\n",
    "        y = self.Variable('y')\n",
    "        self.Equation(lambda m: m.x() + 2*y() - 0)\n",
    "        \n",
    "\n",
    "eq1 = Eq1()\n",
    "eq2 = Eq2()\n",
    "eq1.y = eq2.y\n",
    "eq2.x = eq1.x\n",
    "system = Composite()\n",
    "system.add(eq1)\n",
    "system.add(eq2)\n",
    "system_higher = Composite()\n",
    "system_higher.add(system)\n",
    "\n",
    "system_higher.solve()"
   ]
  },
  {
   "cell_type": "code",
   "execution_count": 11,
   "id": "3a26b942-e33b-427e-b87b-248842576f21",
   "metadata": {},
   "outputs": [
    {
     "data": {
      "text/plain": [
       "array([ 0.89442719, -0.4472136 ])"
      ]
     },
     "execution_count": 11,
     "metadata": {},
     "output_type": "execute_result"
    }
   ],
   "source": [
    "class SysNonLinearEq(Model):\n",
    "    def __init__(self):\n",
    "        super().__init__()\n",
    "        \n",
    "        z1 = self.Variable('x')\n",
    "        z2 = self.Variable('y')\n",
    "        self.Equation(lambda m: z1() + 2*z2() - 0)\n",
    "        self.Equation(lambda m: z1()**2 + z2()**2 - 1)\n",
    "equation_set = SysNonLinearEq()\n",
    "system = Composite()\n",
    "system.add(equation_set)\n",
    "system.solve()"
   ]
  },
  {
   "cell_type": "markdown",
   "id": "a5b11207-808c-49e1-a241-f0b25027fc4a",
   "metadata": {},
   "source": [
    "$$\n",
    "k\\frac{dy}{dt} = -ty\n",
    "$$\n",
    "\n",
    "$$\n",
    "k\\frac{dy}{y} = -tdt\n",
    "$$\n",
    "\n",
    "$$\n",
    "k\\ln{y} = -\\frac{t^2}{2} + C\n",
    "$$\n",
    "\n",
    "$$\n",
    "\\ln{y} = -\\frac{t^2}{2k} + C\n",
    "$$\n",
    "\n",
    "$$\n",
    "y = C\\exp{-\\frac{t^2}{2k}}\n",
    "$$\n",
    "\n",
    "$$\n",
    "y = 5\\exp{-\\frac{t^2}{2k}}\n",
    "$$"
   ]
  },
  {
   "cell_type": "code",
   "execution_count": 12,
   "id": "e852295d-3ea1-444f-b563-e856c10cd008",
   "metadata": {},
   "outputs": [
    {
     "data": {
      "image/png": "[encoded data removed]",
      "text/plain": [
       "<Figure size 432x288 with 1 Axes>"
      ]
     },
     "metadata": {
      "needs_background": "light"
     },
     "output_type": "display_data"
    }
   ],
   "source": [
    "k = 10.0\n",
    "y0 = 5.0\n",
    "t0 = 0.0\n",
    "\n",
    "class ODEset(Model):\n",
    "    def __init__(self):\n",
    "        super().__init__()\n",
    "        \n",
    "        self.Variable('y', 5.0)\n",
    "        self.DerivativeVar('y')\n",
    "        self.Equation(lambda m: k*m.deriv_y() + m.time()*m.y())\n",
    "        \n",
    "ode_set = ODEset()\n",
    "\n",
    "# set the derivative and state on the ODE according the integrator\n",
    "system = Composite()\n",
    "system.add(ode_set)\n",
    "\n",
    "t_values = np.linspace(0,20,100)\n",
    "sim = Simulator(system)\n",
    "timesteps, results = sim.simulate(t_values)\n",
    "# compare with analytical solution\n",
    "# y = 5exp(-t**2/2k)\n",
    "\n",
    "y_true = lambda t: 5* np.exp(-t**2/(2*k))\n",
    "    \n",
    "plt.plot(timesteps,y_true(np.array(timesteps)),'--')\n",
    "plt.plot(timesteps,results['y'],'o');"
   ]
  },
  {
   "cell_type": "markdown",
   "id": "a1a9c42f-0124-4533-8468-b4a3340d0c47",
   "metadata": {},
   "source": [
    "# One Gravity Drained Tank with 2 inflows (TODO MULTIPLE COMPONENTS (x1, x2, etc))\n",
    "https://jckantor.github.io/CBE30338/02.03-Blending-Tank-Simulation.html"
   ]
  },
  {
   "cell_type": "code",
   "execution_count": 26,
   "id": "0b2760da-9508-49c7-8950-b9e4cf0cd0f6",
   "metadata": {},
   "outputs": [
    {
     "data": {
      "text/plain": [
       "[<matplotlib.lines.Line2D at 0x7f2d42292a90>]"
      ]
     },
     "execution_count": 26,
     "metadata": {},
     "output_type": "execute_result"
    },
    {
     "data": {
      "image/png": "[encoded data removed]",
      "text/plain": [
       "<Figure size 432x288 with 1 Axes>"
      ]
     },
     "metadata": {
      "needs_background": "light"
     },
     "output_type": "display_data"
    }
   ],
   "source": [
    "## TODO multiple components\n",
    "AREA = 0.2\n",
    "CV = 0.5\n",
    "RHO = 1000\n",
    "\n",
    "h0 = 0.0\n",
    "x0 = 1\n",
    "\n",
    "F = 0.4\n",
    "z = 1\n",
    "\n",
    "t0 = 0\n",
    "dt = 0.1\n",
    "tf = 8.0\n",
    "\n",
    "class FlowSource(Model):\n",
    "    def __init__(self, name, mass_inflow_func=lambda t: 0.0, composition_func=lambda t: [1.0]):\n",
    "        super().__init__()\n",
    "        self.F = self.Variable(name + '_flowrate', mass_inflow_func(0.0))\n",
    "        n_components = len(composition_func(0.0))\n",
    "        self.x = [self.Variable(name + '_composition' + str(i), composition_func(0.0)) for i in range(n_components)]\n",
    "        self.h = self.Parameter(name + '_head', 0.0)\n",
    "        \n",
    "        self.Equation( lambda m: self.F() - mass_inflow_func(m.time())) # overall mass balance\n",
    "        for i in range(n_components):\n",
    "            self.Equation( lambda m: self.x[i]() - composition_func(m.time())[i]) # overall mass balance\n",
    "        \n",
    "        #self.Equation( lambda m: m.dWidt() - (m.F()*RHO*m.z() - m.L()*RHO*m.x())) # per component mass balance\n",
    "        \n",
    "class Reservoir(Model):\n",
    "    def __init__(self, name, n_components=1, initial_mass=0.0):\n",
    "        super().__init__()\n",
    "        self.F = self.Variable(name + '_inflow')\n",
    "        self.z = [self.Variable(name + '_z' + str(i)) for i in range(n_components)]\n",
    "        \n",
    "        self.L = self.Variable(name + '_outflow')\n",
    "        \n",
    "        self.x = [self.Variable(name + '_x' + str(i)) for i in range(n_components)]\n",
    "        self.dxdt = [self.DerivativeVar(name + '_x' + str(i)) for i in range(n_components)]\n",
    "        #self.Wi = [self.Variable(name + '_W' + str(i)) for i in range(n_components)]\n",
    "        #self.dWidt = [self.DerivativeVar(name + '_W' + str(i)) for i in range(n_components)]\n",
    "        \n",
    "        self.W = self.Variable(name + '_W')\n",
    "        self.dWdt = self.DerivativeVar(name + '_W')\n",
    "        \n",
    "        self.h = self.Variable(name + '_h')\n",
    "        self.P = self.Variable(name + '_P')\n",
    "        self.Pout = self.Variable(name + '_Pout')\n",
    "        \n",
    "        def overall_mass_balance(m):\n",
    "            return m.dWdt() - (m.F()*RHO - m.L()*RHO)\n",
    "        \n",
    "        def component_mass_balance(m,i):\n",
    "            return m.dxdt[i]() - 1/m.W()*(m.F()*(m.z[i]() - m.x[i]())) \n",
    "        \n",
    "        '''\n",
    "        def component_fraction_constraint(m,i):\n",
    "            return m.Wi[i]() - m.x[i]()*m.Wtot()\n",
    "        \n",
    "                            \n",
    "        def total_fraction_constraint(m):\n",
    "            return sum([var() for var in m.x]) - 1\n",
    "        '''\n",
    "        \n",
    "        def height_constraint(m):\n",
    "            return m.h() - m.W()/(RHO*AREA)\n",
    "                            \n",
    "        def bottom_pressure_constraint(m):\n",
    "            return m.P() - RHO*9.81*m.h()\n",
    "                            \n",
    "        def outlet_pressure_constraint(m):\n",
    "            return m.P() - m.Pout()\n",
    "                            \n",
    "        self.Equation( overall_mass_balance )\n",
    "        for i in range(n_components):\n",
    "            self.Equation( lambda m: component_mass_balance(m,i) )\n",
    "        #self.Equation( total_fraction_constraint )\n",
    "        self.Equation( height_constraint )\n",
    "        self.Equation( bottom_pressure_constraint)\n",
    "        self.Equation( outlet_pressure_constraint )\n",
    "        \n",
    "    def input_process_stream(self, flow_objs):\n",
    "        \n",
    "        def total_flowrate(m):\n",
    "            F_total = sum([flow_obj.F() for flow_obj in flow_objs])\n",
    "            return F_total - self.F()\n",
    "        \n",
    "        def total_composition(m,i):\n",
    "            F_total = sum([flow_obj.F() for flow_obj in flow_objs])\n",
    "            x_total = sum([flow_obj.F()*flow_obj.x[i]() for flow_obj in flow_objs])/F_total        \n",
    "            return x_total - self.z[i]()\n",
    "        \n",
    "        self.Equation(total_flowrate)\n",
    "        for i in range(len(flow_objs[0].x)):\n",
    "            self.Equation(lambda m: total_composition(m,i) )\n",
    "        \n",
    "    def output_process_stream(self, flow_objs):\n",
    "        \n",
    "        def total_flowrate(m):\n",
    "            F_total = sum([obj.F() for obj in flow_objs])\n",
    "            return F_total - self.L()\n",
    "        \n",
    "        self.Equation(total_flowrate)\n",
    "        for flow_obj in flow_objs:\n",
    "            self.Equation(lambda m: flow_obj.h() - self.h())\n",
    "            for i in range(len(flow_obj.x)):\n",
    "                self.Equation(lambda m: flow_obj.x[i]() - self.x[i]())\n",
    "            \n",
    "        \n",
    "class FlowRelease(Model):\n",
    "    def __init__(self, name, n_components):\n",
    "        super().__init__()\n",
    "        self.F = self.Variable(name + '_flowrate')\n",
    "        self.x = [self.Variable(name + '_x' + str(i)) for i in range(n_components)]\n",
    "        self.h = self.Variable(name + '_head')\n",
    "        \n",
    "        self.Equation( lambda m: self.F() - CV*np.sqrt(np.clip(m.h(), 0.0, None))) # outlet flow\n",
    "        \n",
    "class FlowControllable(Model):\n",
    "    def __init__(self, name, n_components, value=0.0):\n",
    "        super().__init__()\n",
    "        self.F = self.Variable(name + '_flowrate')\n",
    "        self.x = [self.Variable(name + '_x' + str(i)) for i in range(n_components)]\n",
    "        self.h = self.Variable(name + '_head')\n",
    "        \n",
    "        self.Equation( lambda m: self.F() - value) # outlet flow\n",
    "        \n",
    "\n",
    "inflow = FlowSource('inflow', mass_inflow_func=lambda t: 0.4, composition_func=lambda t: [1.0])\n",
    "inflow2 = FlowSource('inflow2', mass_inflow_func=lambda t: 0.4, composition_func=lambda t: [1.0])\n",
    "tank1 = Reservoir('tank1', n_components=1)\n",
    "release = FlowRelease('release', n_components=1)\n",
    "tank1.input_process_stream([inflow, inflow2])\n",
    "tank1.output_process_stream([release])\n",
    "\n",
    "system = Composite()\n",
    "system.add(inflow)\n",
    "system.add(inflow2)\n",
    "system.add(tank1)\n",
    "system.add(release)\n",
    "\n",
    "t_values = np.linspace(0,8,81)\n",
    "sim = Simulator(system)\n",
    "timesteps, results = sim.simulate(t_values)\n",
    "    \n",
    "plt.plot(timesteps,results['tank1_h'],'o')"
   ]
  },
  {
   "cell_type": "code",
   "execution_count": 27,
   "id": "5be847cf-cb23-40ad-955c-d1017ba98c06",
   "metadata": {},
   "outputs": [
    {
     "data": {
      "image/png": "[encoded data removed]",
      "text/plain": [
       "<Figure size 432x288 with 1 Axes>"
      ]
     },
     "metadata": {
      "needs_background": "light"
     },
     "output_type": "display_data"
    }
   ],
   "source": [
    "from scipy.integrate import odeint\n",
    "\n",
    "# 2. Fix parameter values\n",
    "A = 0.2\n",
    "Cv = 0.5\n",
    "qin = 0.4\n",
    "\n",
    "# 3. Write a function to evaluate RHS of the differential equations\n",
    "def deriv(X,t):\n",
    "    h1 = X\n",
    "    dh1 = (qin + qin - Cv*np.sqrt(h1))/A\n",
    "    return dh1\n",
    "\n",
    "# 4. Choose initial conditions and time grid\n",
    "IC = 0\n",
    "t = np.linspace(0,8,500)\n",
    "\n",
    "# 5. Perform the simulation by numerical solution of the differential equations\n",
    "sol = odeint(deriv,IC,t)\n",
    "\n",
    "# 6. Prepare visualizations and post-processing\n",
    "plt.plot(timesteps,results['tank1_h'],'o')\n",
    "plt.plot(t,sol,'--r');"
   ]
  },
  {
   "cell_type": "markdown",
   "id": "19c0586f-8df0-4f22-9842-2a49655a24d7",
   "metadata": {},
   "source": [
    "# Two Gravity Drained Tanks"
   ]
  },
  {
   "cell_type": "code",
   "execution_count": 28,
   "id": "dd891f2d-6e62-4f39-b0c8-314f3699c0a2",
   "metadata": {},
   "outputs": [
    {
     "data": {
      "text/plain": [
       "[<matplotlib.lines.Line2D at 0x7f2d4319c8e0>]"
      ]
     },
     "execution_count": 28,
     "metadata": {},
     "output_type": "execute_result"
    },
    {
     "data": {
      "image/png": "[encoded data removed]",
      "text/plain": [
       "<Figure size 432x288 with 1 Axes>"
      ]
     },
     "metadata": {
      "needs_background": "light"
     },
     "output_type": "display_data"
    }
   ],
   "source": [
    "AREA = 0.2\n",
    "CV = 0.5\n",
    "RHO = 1000\n",
    "\n",
    "h0 = 0.0\n",
    "x0 = 1\n",
    "\n",
    "F = 0.4\n",
    "z = 1\n",
    "\n",
    "t0 = 0\n",
    "dt = 0.1\n",
    "tf = 8.0\n",
    "\n",
    "inflow = FlowSource('inflow', mass_inflow_func=lambda t: 0.4, composition_func=lambda t: [1.0])\n",
    "tank1 = Reservoir('tank1', n_components=1)\n",
    "tank2 = Reservoir('tank2', n_components=1)\n",
    "release1 = FlowRelease('release1', n_components=1)\n",
    "release2 = FlowRelease('release2', n_components=1)\n",
    "\n",
    "tank1.input_process_stream([inflow])\n",
    "tank1.output_process_stream([release1])\n",
    "\n",
    "tank2.input_process_stream([release1])\n",
    "tank2.output_process_stream([release2])\n",
    "\n",
    "system = Composite()\n",
    "system.add(inflow)\n",
    "system.add(tank1)\n",
    "system.add(tank2)\n",
    "system.add(release1)\n",
    "system.add(release2)\n",
    "\n",
    "t_values = np.linspace(0,8,81)\n",
    "sim = Simulator(system)\n",
    "timesteps, results = sim.simulate(t_values)\n",
    "    \n",
    "plt.plot(timesteps,results['tank1_h'],'o')\n",
    "plt.plot(timesteps,results['tank2_h'],'o')"
   ]
  },
  {
   "cell_type": "code",
   "execution_count": 29,
   "id": "e7d2bb94-6f29-4e16-87dc-3bcfabd3ab76",
   "metadata": {},
   "outputs": [
    {
     "data": {
      "image/png": "[encoded data removed]",
      "text/plain": [
       "<Figure size 432x288 with 1 Axes>"
      ]
     },
     "metadata": {
      "needs_background": "light"
     },
     "output_type": "display_data"
    }
   ],
   "source": [
    "from scipy.integrate import odeint\n",
    "\n",
    "# 2. Fix parameter values\n",
    "A = 0.2\n",
    "Cv = 0.5\n",
    "qin = 0.4\n",
    "\n",
    "# 3. Write a function to evaluate RHS of the differential equations\n",
    "def deriv(X,t):\n",
    "    h1,h2 = X\n",
    "    dh1 = (qin - Cv*np.sqrt(h1))/A\n",
    "    dh2 =  (Cv*np.sqrt(h1) - Cv*np.sqrt(h2))/A \n",
    "    return [dh1,dh2]\n",
    "\n",
    "# 4. Choose initial conditions and time grid\n",
    "IC = [0,0]\n",
    "t = np.linspace(0,8,500)\n",
    "\n",
    "# 5. Perform the simulation by numerical solution of the differential equations\n",
    "sol = odeint(deriv,IC,t)\n",
    "\n",
    "# 6. Prepare visualizations and post-processing\n",
    "plt.plot(timesteps,results['tank1_h'],'o')\n",
    "plt.plot(timesteps,results['tank2_h'],'o')\n",
    "plt.plot(t,sol,'--r');\n"
   ]
  },
  {
   "cell_type": "markdown",
   "id": "4f89f647-486c-41da-a8fd-341295fa1e20",
   "metadata": {},
   "source": [
    "# Complete recyle of 2nd tank into 1st tank"
   ]
  },
  {
   "cell_type": "code",
   "execution_count": 30,
   "id": "4f65b245-e01f-427d-b39f-b7c1967809fb",
   "metadata": {},
   "outputs": [
    {
     "data": {
      "text/plain": [
       "[<matplotlib.lines.Line2D at 0x7f2d4223aa90>]"
      ]
     },
     "execution_count": 30,
     "metadata": {},
     "output_type": "execute_result"
    },
    {
     "data": {
      "image/png": "[encoded data removed]",
      "text/plain": [
       "<Figure size 432x288 with 1 Axes>"
      ]
     },
     "metadata": {
      "needs_background": "light"
     },
     "output_type": "display_data"
    }
   ],
   "source": [
    "AREA = 0.2\n",
    "CV = 0.5\n",
    "RHO = 1000\n",
    "\n",
    "h0 = 0.0\n",
    "x0 = 1\n",
    "\n",
    "F = 0.4\n",
    "z = 1\n",
    "\n",
    "t0 = 0\n",
    "dt = 0.1\n",
    "tf = 8.0\n",
    "\n",
    "inflow = FlowSource('inflow', mass_inflow_func=lambda t: 0.4, composition_func=lambda t: [1.0])\n",
    "tank1 = Reservoir('tank1', n_components=1)\n",
    "tank2 = Reservoir('tank2', n_components=1)\n",
    "release1 = FlowRelease('release1', n_components=1)\n",
    "release2 = FlowRelease('release2', n_components=1)\n",
    "\n",
    "tank1.input_process_stream([inflow, release2])\n",
    "tank1.output_process_stream([release1])\n",
    "\n",
    "tank2.input_process_stream([release1])\n",
    "tank2.output_process_stream([release2])\n",
    "\n",
    "system = Composite()\n",
    "system.add(inflow)\n",
    "system.add(tank1)\n",
    "system.add(tank2)\n",
    "system.add(release1)\n",
    "system.add(release2)\n",
    "\n",
    "t_values = np.linspace(0,8,81)\n",
    "sim = Simulator(system)\n",
    "timesteps, results = sim.simulate(t_values)\n",
    "    \n",
    "plt.plot(timesteps,results['tank1_h'],'o')\n",
    "plt.plot(timesteps,results['tank2_h'],'o')"
   ]
  },
  {
   "cell_type": "code",
   "execution_count": 31,
   "id": "6cd383fc-0f0f-4bc2-a825-e5f8bd901459",
   "metadata": {},
   "outputs": [
    {
     "data": {
      "image/png": "[encoded data removed]",
      "text/plain": [
       "<Figure size 432x288 with 1 Axes>"
      ]
     },
     "metadata": {
      "needs_background": "light"
     },
     "output_type": "display_data"
    }
   ],
   "source": [
    "from scipy.integrate import odeint\n",
    "\n",
    "# 2. Fix parameter values\n",
    "A = 0.2\n",
    "Cv = 0.5\n",
    "qin = 0.4\n",
    "\n",
    "# 3. Write a function to evaluate RHS of the differential equations\n",
    "def deriv(X,t):\n",
    "    h1,h2 = X\n",
    "    dh1 = (qin - Cv*np.sqrt(h1) + Cv*np.sqrt(h2))/A\n",
    "    dh2 =  (Cv*np.sqrt(h1) - Cv*np.sqrt(h2))/A \n",
    "    return [dh1,dh2]\n",
    "\n",
    "# 4. Choose initial conditions and time grid\n",
    "IC = [0,0]\n",
    "t = np.linspace(0,8,500)\n",
    "\n",
    "# 5. Perform the simulation by numerical solution of the differential equations\n",
    "sol = odeint(deriv,IC,t)\n",
    "\n",
    "# 6. Prepare visualizations and post-processing\n",
    "plt.plot(timesteps,results['tank1_h'],'o')\n",
    "plt.plot(timesteps,results['tank2_h'],'o')\n",
    "plt.plot(t,sol,'--r');\n"
   ]
  },
  {
   "cell_type": "markdown",
   "id": "b3cc3855-c23a-4f2e-a5be-d620f76462e3",
   "metadata": {},
   "source": [
    "# Blending tank simulation - 1 component\n",
    "Based on https://jckantor.github.io/CBE30338/02.03-Blending-Tank-Simulation.html"
   ]
  },
  {
   "cell_type": "code",
   "execution_count": 34,
   "id": "bafb9457-1304-4b9c-9c6b-8a7cd6f49c99",
   "metadata": {},
   "outputs": [
    {
     "data": {
      "text/plain": [
       "[<matplotlib.lines.Line2D at 0x7f2d420d9e50>]"
      ]
     },
     "execution_count": 34,
     "metadata": {},
     "output_type": "execute_result"
    },
    {
     "data": {
      "image/png": "[encoded data removed]",
      "text/plain": [
       "<Figure size 432x288 with 1 Axes>"
      ]
     },
     "metadata": {
      "needs_background": "light"
     },
     "output_type": "display_data"
    }
   ],
   "source": [
    "rho = 900.0  # density, kg/m**3\n",
    "\n",
    "w1 = lambda t: 500.0   # stream 1, kg/min\n",
    "w2 = lambda t: 200.0   # stream 2, kg/min\n",
    "w =  700.0   # set outflow equal to sum of inflows\n",
    "\n",
    "x1 = lambda t: [0.4]     # composition stream 1, mass fraction\n",
    "x2 = lambda t: [0.75]    # composition stream 2, mass fraction\n",
    "\n",
    "stream1 = FlowSource('inflow1',mass_inflow_func=w1, composition_func=x1)\n",
    "stream2 = FlowSource('inflow2',w2, x2)\n",
    "stream3 = FlowControllable('outflow',n_components=1, value = w)\n",
    "\n",
    "tank1 = Reservoir('tank1', n_components=1, initial_mass=2.0)\n",
    "\n",
    "tank1.input_process_stream([stream1, stream2])\n",
    "tank1.output_process_stream([stream3])\n",
    "\n",
    "system = Composite()\n",
    "system.add(stream1)\n",
    "system.add(stream2)\n",
    "system.add(stream3)\n",
    "\n",
    "system.add(tank1)\n",
    "\n",
    "\n",
    "t_values = np.linspace(0,10,101)\n",
    "sim = Simulator(system)\n",
    "timesteps, results = sim.simulate(t_values)\n",
    "    \n",
    "plt.plot(timesteps,results['tank1_x0'],'o')"
   ]
  },
  {
   "cell_type": "code",
   "execution_count": 35,
   "id": "8751ea40-e2bb-4361-958a-d86702c2a806",
   "metadata": {},
   "outputs": [
    {
     "data": {
      "text/plain": [
       "[<matplotlib.lines.Line2D at 0x7f2d4203e280>]"
      ]
     },
     "execution_count": 35,
     "metadata": {},
     "output_type": "execute_result"
    },
    {
     "data": {
      "image/png": "[encoded data removed]",
      "text/plain": [
       "<Figure size 432x288 with 1 Axes>"
      ]
     },
     "metadata": {
      "needs_background": "light"
     },
     "output_type": "display_data"
    }
   ],
   "source": [
    "plt.plot(timesteps,results['tank1_W'],'o')"
   ]
  },
  {
   "cell_type": "code",
   "execution_count": null,
   "id": "05f08715-6c29-43f1-b31a-0a9a525ad673",
   "metadata": {},
   "outputs": [],
   "source": []
  }
 ],
 "metadata": {
  "kernelspec": {
   "display_name": "Python 3 (ipykernel)",
   "language": "python",
   "name": "python3"
  },
  "language_info": {
   "codemirror_mode": {
    "name": "ipython",
    "version": 3
   },
   "file_extension": ".py",
   "mimetype": "text/x-python",
   "name": "python",
   "nbconvert_exporter": "python",
   "pygments_lexer": "ipython3",
   "version": "3.8.10"
  }
 },
 "nbformat": 4,
 "nbformat_minor": 5
}
